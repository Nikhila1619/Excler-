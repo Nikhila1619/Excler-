{
  "nbformat": 4,
  "nbformat_minor": 0,
  "metadata": {
    "colab": {
      "provenance": [],
      "authorship_tag": "ABX9TyPsAywkoNCali3h69I6HKfB",
      "include_colab_link": true
    },
    "kernelspec": {
      "name": "python3",
      "display_name": "Python 3"
    },
    "language_info": {
      "name": "python"
    }
  },
  "cells": [
    {
      "cell_type": "markdown",
      "metadata": {
        "id": "view-in-github",
        "colab_type": "text"
      },
      "source": [
        "<a href=\"https://colab.research.google.com/github/Nikhila1619/Excler-/blob/main/Day2.ipynb\" target=\"_parent\"><img src=\"https://colab.research.google.com/assets/colab-badge.svg\" alt=\"Open In Colab\"/></a>"
      ]
    },
    {
      "cell_type": "code",
      "source": [
        "a=[1,2,3,4,5]\n",
        "b=(11,12,13,14,15)\n",
        "c={1:\"Apple\",2:\"Banana\",3:\"Dog\",4:\"panda\",5:\"cat\"}\n",
        "print(a)\n",
        "print(b)\n",
        "print(c)\n",
        "print(a[4])\n",
        "print(b[3])\n",
        "print(c[4])"
      ],
      "metadata": {
        "colab": {
          "base_uri": "https://localhost:8080/"
        },
        "id": "mjO-qNyHLVIB",
        "outputId": "b2a25a9e-6bdb-4707-898c-9bf789f5dede"
      },
      "execution_count": 3,
      "outputs": [
        {
          "output_type": "stream",
          "name": "stdout",
          "text": [
            "[1, 2, 3, 4, 5]\n",
            "(11, 12, 13, 14, 15)\n",
            "{1: 'Apple', 2: 'Banana', 3: 'Dog', 4: 'panda', 5: 'cat'}\n",
            "5\n",
            "14\n",
            "panda\n"
          ]
        }
      ]
    },
    {
      "cell_type": "code",
      "source": [],
      "metadata": {
        "id": "-Hxcl-QOLfAu"
      },
      "execution_count": null,
      "outputs": []
    },
    {
      "cell_type": "code",
      "execution_count": null,
      "metadata": {
        "id": "qo1m1-TZLTiR"
      },
      "outputs": [],
      "source": []
    }
  ]
}
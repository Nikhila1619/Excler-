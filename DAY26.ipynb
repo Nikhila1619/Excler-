{
  "nbformat": 4,
  "nbformat_minor": 0,
  "metadata": {
    "colab": {
      "provenance": [],
      "gpuType": "T4",
      "authorship_tag": "ABX9TyM/YasI4o834pjEAnlYBOKL",
      "include_colab_link": true
    },
    "kernelspec": {
      "name": "python3",
      "display_name": "Python 3"
    },
    "language_info": {
      "name": "python"
    },
    "accelerator": "GPU"
  },
  "cells": [
    {
      "cell_type": "markdown",
      "metadata": {
        "id": "view-in-github",
        "colab_type": "text"
      },
      "source": [
        "<a href=\"https://colab.research.google.com/github/Nikhila1619/Excler-/blob/main/DAY26.ipynb\" target=\"_parent\"><img src=\"https://colab.research.google.com/assets/colab-badge.svg\" alt=\"Open In Colab\"/></a>"
      ]
    },
    {
      "cell_type": "code",
      "source": [
        "from sklearn.feature_extraction.text import TfidfVectorizer\n",
        "from sklearn.metrics.pairwise import cosine_similarity\n",
        "\n",
        "def calculate_cosine_similarity(text1, text2):\n",
        "    # Create a TfidfVectorizer instance\n",
        "    vectorizer = TfidfVectorizer()\n",
        "\n",
        "    # Transform texts into TF-IDF vectors\n",
        "    tfidf_matrix = vectorizer.fit_transform([text1, text2])\n",
        "\n",
        "    # Compute cosine similarity\n",
        "    similarity = cosine_similarity(tfidf_matrix[0], tfidf_matrix[1])\n",
        "\n",
        "    return similarity[0][0]\n",
        "\n",
        "# Example usage\n",
        "text1 = \"Machine learning is amazing.\"\n",
        "text2 = \"Deep learning is a subset of machine learning.\"\n",
        "similarity_score = calculate_cosine_similarity(text1, text2)\n",
        "print(f\"Cosine Similarity: {similarity_score:.4f}\")"
      ],
      "metadata": {
        "id": "KDaQS50PKVnP",
        "outputId": "92be9fc8-4516-4827-bc80-3ef25ce190b0",
        "colab": {
          "base_uri": "https://localhost:8080/"
        }
      },
      "execution_count": 17,
      "outputs": [
        {
          "output_type": "stream",
          "name": "stdout",
          "text": [
            "Cosine Similarity: 0.5193\n"
          ]
        }
      ]
    }
  ]
}
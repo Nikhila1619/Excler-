{
  "nbformat": 4,
  "nbformat_minor": 0,
  "metadata": {
    "colab": {
      "provenance": [],
      "authorship_tag": "ABX9TyMKwkN7g2/Si/fom2LBCYGL",
      "include_colab_link": true
    },
    "kernelspec": {
      "name": "python3",
      "display_name": "Python 3"
    },
    "language_info": {
      "name": "python"
    }
  },
  "cells": [
    {
      "cell_type": "markdown",
      "metadata": {
        "id": "view-in-github",
        "colab_type": "text"
      },
      "source": [
        "<a href=\"https://colab.research.google.com/github/Nikhila1619/Excler-/blob/main/Day3.ipynb\" target=\"_parent\"><img src=\"https://colab.research.google.com/assets/colab-badge.svg\" alt=\"Open In Colab\"/></a>"
      ]
    },
    {
      "cell_type": "code",
      "source": [
        "a=int(input(\"Enter the Marks: \"))\n",
        "b=int(input(\"Enter the Marks: \"))\n",
        "c=int(input(\"Enter the Marks: \"))\n",
        "average=(a+b+c)/3\n",
        "if average>=90:\n",
        "  print(\"Grade: A\")\n",
        "elif 80<=average<90:\n",
        "  print(\"Grade: B\")\n",
        "elif 70<=average<80:\n",
        "  print(\"Grade: C\")\n",
        "else:\n",
        "  print(\"Grade: Fail\")"
      ],
      "metadata": {
        "colab": {
          "base_uri": "https://localhost:8080/"
        },
        "id": "-Hxcl-QOLfAu",
        "outputId": "a3cf14f2-211e-49dc-9614-d4ac4baa6c5c"
      },
      "execution_count": 5,
      "outputs": [
        {
          "output_type": "stream",
          "name": "stdout",
          "text": [
            "Enter the Marks: 97\n",
            "Enter the Marks: 85\n",
            "Enter the Marks: 73\n",
            "Grade: B\n"
          ]
        }
      ]
    },
    {
      "cell_type": "code",
      "execution_count": null,
      "metadata": {
        "id": "qo1m1-TZLTiR"
      },
      "outputs": [],
      "source": []
    }
  ]
}
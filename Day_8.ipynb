{
  "nbformat": 4,
  "nbformat_minor": 0,
  "metadata": {
    "colab": {
      "provenance": [],
      "authorship_tag": "ABX9TyNi1+8+NZU8eXEtO/LO7uC+",
      "include_colab_link": true
    },
    "kernelspec": {
      "name": "python3",
      "display_name": "Python 3"
    },
    "language_info": {
      "name": "python"
    }
  },
  "cells": [
    {
      "cell_type": "markdown",
      "metadata": {
        "id": "view-in-github",
        "colab_type": "text"
      },
      "source": [
        "<a href=\"https://colab.research.google.com/github/Nikhila1619/Excler-/blob/main/Day_8.ipynb\" target=\"_parent\"><img src=\"https://colab.research.google.com/assets/colab-badge.svg\" alt=\"Open In Colab\"/></a>"
      ]
    },
    {
      "cell_type": "code",
      "source": [
        "import nltk\n",
        "from nltk.tokenize import word_tokenize, sent_tokenize\n",
        "\n",
        "# Ensure necessary NLTK resources are available\n",
        "nltk.download('punkt')\n",
        "\n",
        "# Sample paragraph\n",
        "paragraph = \"\"\"\n",
        "Natural language processing (NLP) is a subfield of artificial intelligence. It focuses on the interaction between computers and humans using natural language. NLP has applications in text analysis, machine translation, and sentiment analysis.\n",
        "\"\"\"\n",
        "\n",
        "# Tokenize the paragraph into sentences\n",
        "sentences = sent_tokenize(paragraph)\n",
        "\n",
        "# Tokenize each sentence into words\n",
        "words = [word_tokenize(sentence) for sentence in sentences]\n",
        "\n",
        "# Print the sentences and corresponding word tokens\n",
        "print(\"Sentences:\")\n",
        "for sentence in sentences:\n",
        "    print(f\"- {sentence}\")\n",
        "\n",
        "print(\"\\nWords:\")\n",
        "for sentence_words in words:\n",
        "    print(f\"- {sentence_words}\")\n"
      ],
      "metadata": {
        "colab": {
          "base_uri": "https://localhost:8080/"
        },
        "id": "2q5uIakkDIbl",
        "outputId": "9a357863-4f14-4879-b4ae-59ecf3ae9454"
      },
      "execution_count": 12,
      "outputs": [
        {
          "output_type": "stream",
          "name": "stdout",
          "text": [
            "Sentences:\n",
            "- \n",
            "Natural language processing (NLP) is a subfield of artificial intelligence.\n",
            "- It focuses on the interaction between computers and humans using natural language.\n",
            "- NLP has applications in text analysis, machine translation, and sentiment analysis.\n",
            "\n",
            "Words:\n",
            "- ['Natural', 'language', 'processing', '(', 'NLP', ')', 'is', 'a', 'subfield', 'of', 'artificial', 'intelligence', '.']\n",
            "- ['It', 'focuses', 'on', 'the', 'interaction', 'between', 'computers', 'and', 'humans', 'using', 'natural', 'language', '.']\n",
            "- ['NLP', 'has', 'applications', 'in', 'text', 'analysis', ',', 'machine', 'translation', ',', 'and', 'sentiment', 'analysis', '.']\n"
          ]
        },
        {
          "output_type": "stream",
          "name": "stderr",
          "text": [
            "[nltk_data] Downloading package punkt to /root/nltk_data...\n",
            "[nltk_data]   Package punkt is already up-to-date!\n"
          ]
        }
      ]
    }
  ]
}